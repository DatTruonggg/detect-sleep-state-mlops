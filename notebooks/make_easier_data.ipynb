{
 "cells": [
  {
   "cell_type": "code",
   "execution_count": 1,
   "metadata": {},
   "outputs": [],
   "source": [
    "import pandas as pd\n"
   ]
  },
  {
   "cell_type": "code",
   "execution_count": 2,
   "metadata": {},
   "outputs": [
    {
     "data": {
      "text/plain": [
       "array(['wakeup'], dtype=object)"
      ]
     },
     "execution_count": 2,
     "metadata": {},
     "output_type": "execute_result"
    }
   ],
   "source": [
    "train_events = pd.read_csv(\"../data/raw/train_events.csv\")\n",
    "train_events.groupby('series_id').head(1)[\"event\"].unique()\n",
    "train_events.groupby('series_id').tail(1)[\"event\"].unique()\n"
   ]
  },
  {
   "cell_type": "code",
   "execution_count": 3,
   "metadata": {},
   "outputs": [
    {
     "data": {
      "text/plain": [
       "step\n",
       "True     240\n",
       "False     37\n",
       "Name: count, dtype: int64"
      ]
     },
     "execution_count": 3,
     "metadata": {},
     "output_type": "execute_result"
    }
   ],
   "source": [
    "series_has_NaN = train_events.groupby('series_id')['step'].apply(lambda x: x.isnull().any())\n",
    "series_has_NaN.value_counts()"
   ]
  },
  {
   "cell_type": "code",
   "execution_count": 4,
   "metadata": {},
   "outputs": [
    {
     "data": {
      "text/plain": [
       "['08db4255286f',\n",
       " '0a96f4993bd7',\n",
       " '0cfc06c129cc',\n",
       " '1087d7b0ff2e',\n",
       " '10f8bc1f7b07',\n",
       " '18b61dd5aae8',\n",
       " '29c75c018220',\n",
       " '31011ade7c0a',\n",
       " '3452b878e596',\n",
       " '349c5562ee2c',\n",
       " '3664fe9233f9',\n",
       " '483d6545417f',\n",
       " '55a47ff9dc8a',\n",
       " '5acc9d63b5fd',\n",
       " '5f94bb3e1bed',\n",
       " '655f19eabf1e',\n",
       " '67f5fc60e494',\n",
       " '72bbd1ac3edf',\n",
       " '76237b9406d5',\n",
       " '7822ee8fe3ec',\n",
       " '89bd631d1769',\n",
       " '8e32047cbc1f',\n",
       " '939932f1822d',\n",
       " '9ee455e4770d',\n",
       " 'a596ad0b82aa',\n",
       " 'a9a2f7fac455',\n",
       " 'a9e5f5314bcb',\n",
       " 'af91d9a50547',\n",
       " 'b364205aba43',\n",
       " 'c535634d7dcd',\n",
       " 'c6788e579967',\n",
       " 'c68260cc9e8f',\n",
       " 'ca730dbf521d',\n",
       " 'd150801f3145',\n",
       " 'd25e479ecbb7',\n",
       " 'd515236bdeec',\n",
       " 'd5e47b94477e']"
      ]
     },
     "execution_count": 4,
     "metadata": {},
     "output_type": "execute_result"
    }
   ],
   "source": [
    "no_NaN_series = series_has_NaN[~series_has_NaN].index.tolist()\n",
    "no_NaN_series"
   ]
  },
  {
   "cell_type": "code",
   "execution_count": 5,
   "metadata": {},
   "outputs": [],
   "source": [
    "# also drop these two \"truncated\" events series seen in EDA:\n",
    "no_NaN_series.remove('31011ade7c0a') # incomplete events data\n",
    "no_NaN_series.remove('a596ad0b82aa') # incomplete events data"
   ]
  },
  {
   "cell_type": "code",
   "execution_count": 6,
   "metadata": {},
   "outputs": [],
   "source": [
    "def get_train_series(series):\n",
    "    train_series = pd.read_parquet(\"../data/raw/train_series.parquet\", filters=[('series_id','=',series)])\n",
    "    train_events = pd.read_csv(\"../data/raw/train_events.csv\").query('series_id == @series')\n",
    "    \n",
    "    train_events = train_events.dropna()\n",
    "    train_events[\"step\"]  = train_events[\"step\"].astype(\"int\")\n",
    "    train_events[\"events\"] = train_events[\"event\"].replace({\"onset\":1,\"wakeup\":0})\n",
    "\n",
    "    train = pd.merge(train_series, train_events[['step','events']], on='step', how='left')\n",
    "    train[\"events\"] = train[\"events\"].bfill(axis ='rows')\n",
    "    # final section:\n",
    "    # train_events.groupby('series_id').tail(1)[\"event\"].unique()\n",
    "    # Result: the last event is always a \"wakeup\"\n",
    "    train['events'] = train['events'].fillna(1) # events\n",
    "    train[\"events\"] = train[\"events\"].astype(\"int\")\n",
    "    return(train)"
   ]
  },
  {
   "cell_type": "code",
   "execution_count": 7,
   "metadata": {},
   "outputs": [
    {
     "name": "stderr",
     "output_type": "stream",
     "text": [
      "/tmp/ipykernel_133196/3670474102.py:7: FutureWarning: Downcasting behavior in `replace` is deprecated and will be removed in a future version. To retain the old behavior, explicitly call `result.infer_objects(copy=False)`. To opt-in to the future behavior, set `pd.set_option('future.no_silent_downcasting', True)`\n",
      "  train_events[\"events\"] = train_events[\"event\"].replace({\"onset\":1,\"wakeup\":0})\n",
      "/tmp/ipykernel_133196/3670474102.py:7: FutureWarning: Downcasting behavior in `replace` is deprecated and will be removed in a future version. To retain the old behavior, explicitly call `result.infer_objects(copy=False)`. To opt-in to the future behavior, set `pd.set_option('future.no_silent_downcasting', True)`\n",
      "  train_events[\"events\"] = train_events[\"event\"].replace({\"onset\":1,\"wakeup\":0})\n",
      "/tmp/ipykernel_133196/3670474102.py:7: FutureWarning: Downcasting behavior in `replace` is deprecated and will be removed in a future version. To retain the old behavior, explicitly call `result.infer_objects(copy=False)`. To opt-in to the future behavior, set `pd.set_option('future.no_silent_downcasting', True)`\n",
      "  train_events[\"events\"] = train_events[\"event\"].replace({\"onset\":1,\"wakeup\":0})\n",
      "/tmp/ipykernel_133196/3670474102.py:7: FutureWarning: Downcasting behavior in `replace` is deprecated and will be removed in a future version. To retain the old behavior, explicitly call `result.infer_objects(copy=False)`. To opt-in to the future behavior, set `pd.set_option('future.no_silent_downcasting', True)`\n",
      "  train_events[\"events\"] = train_events[\"event\"].replace({\"onset\":1,\"wakeup\":0})\n",
      "/tmp/ipykernel_133196/3670474102.py:7: FutureWarning: Downcasting behavior in `replace` is deprecated and will be removed in a future version. To retain the old behavior, explicitly call `result.infer_objects(copy=False)`. To opt-in to the future behavior, set `pd.set_option('future.no_silent_downcasting', True)`\n",
      "  train_events[\"events\"] = train_events[\"event\"].replace({\"onset\":1,\"wakeup\":0})\n",
      "/tmp/ipykernel_133196/3670474102.py:7: FutureWarning: Downcasting behavior in `replace` is deprecated and will be removed in a future version. To retain the old behavior, explicitly call `result.infer_objects(copy=False)`. To opt-in to the future behavior, set `pd.set_option('future.no_silent_downcasting', True)`\n",
      "  train_events[\"events\"] = train_events[\"event\"].replace({\"onset\":1,\"wakeup\":0})\n",
      "/tmp/ipykernel_133196/3670474102.py:7: FutureWarning: Downcasting behavior in `replace` is deprecated and will be removed in a future version. To retain the old behavior, explicitly call `result.infer_objects(copy=False)`. To opt-in to the future behavior, set `pd.set_option('future.no_silent_downcasting', True)`\n",
      "  train_events[\"events\"] = train_events[\"event\"].replace({\"onset\":1,\"wakeup\":0})\n",
      "/tmp/ipykernel_133196/3670474102.py:7: FutureWarning: Downcasting behavior in `replace` is deprecated and will be removed in a future version. To retain the old behavior, explicitly call `result.infer_objects(copy=False)`. To opt-in to the future behavior, set `pd.set_option('future.no_silent_downcasting', True)`\n",
      "  train_events[\"events\"] = train_events[\"event\"].replace({\"onset\":1,\"wakeup\":0})\n",
      "/tmp/ipykernel_133196/3670474102.py:7: FutureWarning: Downcasting behavior in `replace` is deprecated and will be removed in a future version. To retain the old behavior, explicitly call `result.infer_objects(copy=False)`. To opt-in to the future behavior, set `pd.set_option('future.no_silent_downcasting', True)`\n",
      "  train_events[\"events\"] = train_events[\"event\"].replace({\"onset\":1,\"wakeup\":0})\n",
      "/tmp/ipykernel_133196/3670474102.py:7: FutureWarning: Downcasting behavior in `replace` is deprecated and will be removed in a future version. To retain the old behavior, explicitly call `result.infer_objects(copy=False)`. To opt-in to the future behavior, set `pd.set_option('future.no_silent_downcasting', True)`\n",
      "  train_events[\"events\"] = train_events[\"event\"].replace({\"onset\":1,\"wakeup\":0})\n",
      "/tmp/ipykernel_133196/3670474102.py:7: FutureWarning: Downcasting behavior in `replace` is deprecated and will be removed in a future version. To retain the old behavior, explicitly call `result.infer_objects(copy=False)`. To opt-in to the future behavior, set `pd.set_option('future.no_silent_downcasting', True)`\n",
      "  train_events[\"events\"] = train_events[\"event\"].replace({\"onset\":1,\"wakeup\":0})\n",
      "/tmp/ipykernel_133196/3670474102.py:7: FutureWarning: Downcasting behavior in `replace` is deprecated and will be removed in a future version. To retain the old behavior, explicitly call `result.infer_objects(copy=False)`. To opt-in to the future behavior, set `pd.set_option('future.no_silent_downcasting', True)`\n",
      "  train_events[\"events\"] = train_events[\"event\"].replace({\"onset\":1,\"wakeup\":0})\n",
      "/tmp/ipykernel_133196/3670474102.py:7: FutureWarning: Downcasting behavior in `replace` is deprecated and will be removed in a future version. To retain the old behavior, explicitly call `result.infer_objects(copy=False)`. To opt-in to the future behavior, set `pd.set_option('future.no_silent_downcasting', True)`\n",
      "  train_events[\"events\"] = train_events[\"event\"].replace({\"onset\":1,\"wakeup\":0})\n",
      "/tmp/ipykernel_133196/3670474102.py:7: FutureWarning: Downcasting behavior in `replace` is deprecated and will be removed in a future version. To retain the old behavior, explicitly call `result.infer_objects(copy=False)`. To opt-in to the future behavior, set `pd.set_option('future.no_silent_downcasting', True)`\n",
      "  train_events[\"events\"] = train_events[\"event\"].replace({\"onset\":1,\"wakeup\":0})\n",
      "/tmp/ipykernel_133196/3670474102.py:7: FutureWarning: Downcasting behavior in `replace` is deprecated and will be removed in a future version. To retain the old behavior, explicitly call `result.infer_objects(copy=False)`. To opt-in to the future behavior, set `pd.set_option('future.no_silent_downcasting', True)`\n",
      "  train_events[\"events\"] = train_events[\"event\"].replace({\"onset\":1,\"wakeup\":0})\n",
      "/tmp/ipykernel_133196/3670474102.py:7: FutureWarning: Downcasting behavior in `replace` is deprecated and will be removed in a future version. To retain the old behavior, explicitly call `result.infer_objects(copy=False)`. To opt-in to the future behavior, set `pd.set_option('future.no_silent_downcasting', True)`\n",
      "  train_events[\"events\"] = train_events[\"event\"].replace({\"onset\":1,\"wakeup\":0})\n",
      "/tmp/ipykernel_133196/3670474102.py:7: FutureWarning: Downcasting behavior in `replace` is deprecated and will be removed in a future version. To retain the old behavior, explicitly call `result.infer_objects(copy=False)`. To opt-in to the future behavior, set `pd.set_option('future.no_silent_downcasting', True)`\n",
      "  train_events[\"events\"] = train_events[\"event\"].replace({\"onset\":1,\"wakeup\":0})\n",
      "/tmp/ipykernel_133196/3670474102.py:7: FutureWarning: Downcasting behavior in `replace` is deprecated and will be removed in a future version. To retain the old behavior, explicitly call `result.infer_objects(copy=False)`. To opt-in to the future behavior, set `pd.set_option('future.no_silent_downcasting', True)`\n",
      "  train_events[\"events\"] = train_events[\"event\"].replace({\"onset\":1,\"wakeup\":0})\n",
      "/tmp/ipykernel_133196/3670474102.py:7: FutureWarning: Downcasting behavior in `replace` is deprecated and will be removed in a future version. To retain the old behavior, explicitly call `result.infer_objects(copy=False)`. To opt-in to the future behavior, set `pd.set_option('future.no_silent_downcasting', True)`\n",
      "  train_events[\"events\"] = train_events[\"event\"].replace({\"onset\":1,\"wakeup\":0})\n",
      "/tmp/ipykernel_133196/3670474102.py:7: FutureWarning: Downcasting behavior in `replace` is deprecated and will be removed in a future version. To retain the old behavior, explicitly call `result.infer_objects(copy=False)`. To opt-in to the future behavior, set `pd.set_option('future.no_silent_downcasting', True)`\n",
      "  train_events[\"events\"] = train_events[\"event\"].replace({\"onset\":1,\"wakeup\":0})\n",
      "/tmp/ipykernel_133196/3670474102.py:7: FutureWarning: Downcasting behavior in `replace` is deprecated and will be removed in a future version. To retain the old behavior, explicitly call `result.infer_objects(copy=False)`. To opt-in to the future behavior, set `pd.set_option('future.no_silent_downcasting', True)`\n",
      "  train_events[\"events\"] = train_events[\"event\"].replace({\"onset\":1,\"wakeup\":0})\n",
      "/tmp/ipykernel_133196/3670474102.py:7: FutureWarning: Downcasting behavior in `replace` is deprecated and will be removed in a future version. To retain the old behavior, explicitly call `result.infer_objects(copy=False)`. To opt-in to the future behavior, set `pd.set_option('future.no_silent_downcasting', True)`\n",
      "  train_events[\"events\"] = train_events[\"event\"].replace({\"onset\":1,\"wakeup\":0})\n",
      "/tmp/ipykernel_133196/3670474102.py:7: FutureWarning: Downcasting behavior in `replace` is deprecated and will be removed in a future version. To retain the old behavior, explicitly call `result.infer_objects(copy=False)`. To opt-in to the future behavior, set `pd.set_option('future.no_silent_downcasting', True)`\n",
      "  train_events[\"events\"] = train_events[\"event\"].replace({\"onset\":1,\"wakeup\":0})\n",
      "/tmp/ipykernel_133196/3670474102.py:7: FutureWarning: Downcasting behavior in `replace` is deprecated and will be removed in a future version. To retain the old behavior, explicitly call `result.infer_objects(copy=False)`. To opt-in to the future behavior, set `pd.set_option('future.no_silent_downcasting', True)`\n",
      "  train_events[\"events\"] = train_events[\"event\"].replace({\"onset\":1,\"wakeup\":0})\n",
      "/tmp/ipykernel_133196/3670474102.py:7: FutureWarning: Downcasting behavior in `replace` is deprecated and will be removed in a future version. To retain the old behavior, explicitly call `result.infer_objects(copy=False)`. To opt-in to the future behavior, set `pd.set_option('future.no_silent_downcasting', True)`\n",
      "  train_events[\"events\"] = train_events[\"event\"].replace({\"onset\":1,\"wakeup\":0})\n",
      "/tmp/ipykernel_133196/3670474102.py:7: FutureWarning: Downcasting behavior in `replace` is deprecated and will be removed in a future version. To retain the old behavior, explicitly call `result.infer_objects(copy=False)`. To opt-in to the future behavior, set `pd.set_option('future.no_silent_downcasting', True)`\n",
      "  train_events[\"events\"] = train_events[\"event\"].replace({\"onset\":1,\"wakeup\":0})\n",
      "/tmp/ipykernel_133196/3670474102.py:7: FutureWarning: Downcasting behavior in `replace` is deprecated and will be removed in a future version. To retain the old behavior, explicitly call `result.infer_objects(copy=False)`. To opt-in to the future behavior, set `pd.set_option('future.no_silent_downcasting', True)`\n",
      "  train_events[\"events\"] = train_events[\"event\"].replace({\"onset\":1,\"wakeup\":0})\n",
      "/tmp/ipykernel_133196/3670474102.py:7: FutureWarning: Downcasting behavior in `replace` is deprecated and will be removed in a future version. To retain the old behavior, explicitly call `result.infer_objects(copy=False)`. To opt-in to the future behavior, set `pd.set_option('future.no_silent_downcasting', True)`\n",
      "  train_events[\"events\"] = train_events[\"event\"].replace({\"onset\":1,\"wakeup\":0})\n",
      "/tmp/ipykernel_133196/3670474102.py:7: FutureWarning: Downcasting behavior in `replace` is deprecated and will be removed in a future version. To retain the old behavior, explicitly call `result.infer_objects(copy=False)`. To opt-in to the future behavior, set `pd.set_option('future.no_silent_downcasting', True)`\n",
      "  train_events[\"events\"] = train_events[\"event\"].replace({\"onset\":1,\"wakeup\":0})\n",
      "/tmp/ipykernel_133196/3670474102.py:7: FutureWarning: Downcasting behavior in `replace` is deprecated and will be removed in a future version. To retain the old behavior, explicitly call `result.infer_objects(copy=False)`. To opt-in to the future behavior, set `pd.set_option('future.no_silent_downcasting', True)`\n",
      "  train_events[\"events\"] = train_events[\"event\"].replace({\"onset\":1,\"wakeup\":0})\n",
      "/tmp/ipykernel_133196/3670474102.py:7: FutureWarning: Downcasting behavior in `replace` is deprecated and will be removed in a future version. To retain the old behavior, explicitly call `result.infer_objects(copy=False)`. To opt-in to the future behavior, set `pd.set_option('future.no_silent_downcasting', True)`\n",
      "  train_events[\"events\"] = train_events[\"event\"].replace({\"onset\":1,\"wakeup\":0})\n",
      "/tmp/ipykernel_133196/3670474102.py:7: FutureWarning: Downcasting behavior in `replace` is deprecated and will be removed in a future version. To retain the old behavior, explicitly call `result.infer_objects(copy=False)`. To opt-in to the future behavior, set `pd.set_option('future.no_silent_downcasting', True)`\n",
      "  train_events[\"events\"] = train_events[\"event\"].replace({\"onset\":1,\"wakeup\":0})\n",
      "/tmp/ipykernel_133196/3670474102.py:7: FutureWarning: Downcasting behavior in `replace` is deprecated and will be removed in a future version. To retain the old behavior, explicitly call `result.infer_objects(copy=False)`. To opt-in to the future behavior, set `pd.set_option('future.no_silent_downcasting', True)`\n",
      "  train_events[\"events\"] = train_events[\"event\"].replace({\"onset\":1,\"wakeup\":0})\n",
      "/tmp/ipykernel_133196/3670474102.py:7: FutureWarning: Downcasting behavior in `replace` is deprecated and will be removed in a future version. To retain the old behavior, explicitly call `result.infer_objects(copy=False)`. To opt-in to the future behavior, set `pd.set_option('future.no_silent_downcasting', True)`\n",
      "  train_events[\"events\"] = train_events[\"event\"].replace({\"onset\":1,\"wakeup\":0})\n",
      "/tmp/ipykernel_133196/3670474102.py:7: FutureWarning: Downcasting behavior in `replace` is deprecated and will be removed in a future version. To retain the old behavior, explicitly call `result.infer_objects(copy=False)`. To opt-in to the future behavior, set `pd.set_option('future.no_silent_downcasting', True)`\n",
      "  train_events[\"events\"] = train_events[\"event\"].replace({\"onset\":1,\"wakeup\":0})\n"
     ]
    }
   ],
   "source": [
    "smaller_train_data = []\n",
    "\n",
    "for series_id in no_NaN_series:\n",
    "    train = get_train_series(series_id)\n",
    "    smaller_train_data.append(train)"
   ]
  },
  {
   "cell_type": "code",
   "execution_count": 8,
   "metadata": {},
   "outputs": [
    {
     "data": {
      "text/plain": [
       "35"
      ]
     },
     "execution_count": 8,
     "metadata": {},
     "output_type": "execute_result"
    }
   ],
   "source": [
    "Zzzs_train = pd.concat(smaller_train_data).reset_index(drop=True)\n",
    "Zzzs_train[\"series_id\"].nunique()\n"
   ]
  },
  {
   "cell_type": "code",
   "execution_count": 9,
   "metadata": {},
   "outputs": [
    {
     "data": {
      "text/html": [
       "<div>\n",
       "<style scoped>\n",
       "    .dataframe tbody tr th:only-of-type {\n",
       "        vertical-align: middle;\n",
       "    }\n",
       "\n",
       "    .dataframe tbody tr th {\n",
       "        vertical-align: top;\n",
       "    }\n",
       "\n",
       "    .dataframe thead th {\n",
       "        text-align: right;\n",
       "    }\n",
       "</style>\n",
       "<table border=\"1\" class=\"dataframe\">\n",
       "  <thead>\n",
       "    <tr style=\"text-align: right;\">\n",
       "      <th></th>\n",
       "      <th>series_id</th>\n",
       "      <th>step</th>\n",
       "      <th>timestamp</th>\n",
       "      <th>anglez</th>\n",
       "      <th>enmo</th>\n",
       "      <th>events</th>\n",
       "    </tr>\n",
       "  </thead>\n",
       "  <tbody>\n",
       "    <tr>\n",
       "      <th>0</th>\n",
       "      <td>08db4255286f</td>\n",
       "      <td>0</td>\n",
       "      <td>2018-11-05T10:00:00-0400</td>\n",
       "      <td>-30.845301</td>\n",
       "      <td>0.0447</td>\n",
       "      <td>1</td>\n",
       "    </tr>\n",
       "    <tr>\n",
       "      <th>1</th>\n",
       "      <td>08db4255286f</td>\n",
       "      <td>1</td>\n",
       "      <td>2018-11-05T10:00:05-0400</td>\n",
       "      <td>-34.181801</td>\n",
       "      <td>0.0443</td>\n",
       "      <td>1</td>\n",
       "    </tr>\n",
       "    <tr>\n",
       "      <th>2</th>\n",
       "      <td>08db4255286f</td>\n",
       "      <td>2</td>\n",
       "      <td>2018-11-05T10:00:10-0400</td>\n",
       "      <td>-33.877102</td>\n",
       "      <td>0.0483</td>\n",
       "      <td>1</td>\n",
       "    </tr>\n",
       "    <tr>\n",
       "      <th>3</th>\n",
       "      <td>08db4255286f</td>\n",
       "      <td>3</td>\n",
       "      <td>2018-11-05T10:00:15-0400</td>\n",
       "      <td>-34.282101</td>\n",
       "      <td>0.0680</td>\n",
       "      <td>1</td>\n",
       "    </tr>\n",
       "    <tr>\n",
       "      <th>4</th>\n",
       "      <td>08db4255286f</td>\n",
       "      <td>4</td>\n",
       "      <td>2018-11-05T10:00:20-0400</td>\n",
       "      <td>-34.385799</td>\n",
       "      <td>0.0768</td>\n",
       "      <td>1</td>\n",
       "    </tr>\n",
       "    <tr>\n",
       "      <th>...</th>\n",
       "      <td>...</td>\n",
       "      <td>...</td>\n",
       "      <td>...</td>\n",
       "      <td>...</td>\n",
       "      <td>...</td>\n",
       "      <td>...</td>\n",
       "    </tr>\n",
       "    <tr>\n",
       "      <th>13165555</th>\n",
       "      <td>d5e47b94477e</td>\n",
       "      <td>395815</td>\n",
       "      <td>2017-12-02T15:44:35-0500</td>\n",
       "      <td>-10.064100</td>\n",
       "      <td>0.1552</td>\n",
       "      <td>1</td>\n",
       "    </tr>\n",
       "    <tr>\n",
       "      <th>13165556</th>\n",
       "      <td>d5e47b94477e</td>\n",
       "      <td>395816</td>\n",
       "      <td>2017-12-02T15:44:40-0500</td>\n",
       "      <td>-10.006700</td>\n",
       "      <td>0.1139</td>\n",
       "      <td>1</td>\n",
       "    </tr>\n",
       "    <tr>\n",
       "      <th>13165557</th>\n",
       "      <td>d5e47b94477e</td>\n",
       "      <td>395817</td>\n",
       "      <td>2017-12-02T15:44:45-0500</td>\n",
       "      <td>-3.328600</td>\n",
       "      <td>0.1245</td>\n",
       "      <td>1</td>\n",
       "    </tr>\n",
       "    <tr>\n",
       "      <th>13165558</th>\n",
       "      <td>d5e47b94477e</td>\n",
       "      <td>395818</td>\n",
       "      <td>2017-12-02T15:44:50-0500</td>\n",
       "      <td>-5.903100</td>\n",
       "      <td>0.1363</td>\n",
       "      <td>1</td>\n",
       "    </tr>\n",
       "    <tr>\n",
       "      <th>13165559</th>\n",
       "      <td>d5e47b94477e</td>\n",
       "      <td>395819</td>\n",
       "      <td>2017-12-02T15:44:55-0500</td>\n",
       "      <td>-11.691100</td>\n",
       "      <td>0.0995</td>\n",
       "      <td>1</td>\n",
       "    </tr>\n",
       "  </tbody>\n",
       "</table>\n",
       "<p>13165560 rows × 6 columns</p>\n",
       "</div>"
      ],
      "text/plain": [
       "             series_id    step                 timestamp     anglez    enmo  \\\n",
       "0         08db4255286f       0  2018-11-05T10:00:00-0400 -30.845301  0.0447   \n",
       "1         08db4255286f       1  2018-11-05T10:00:05-0400 -34.181801  0.0443   \n",
       "2         08db4255286f       2  2018-11-05T10:00:10-0400 -33.877102  0.0483   \n",
       "3         08db4255286f       3  2018-11-05T10:00:15-0400 -34.282101  0.0680   \n",
       "4         08db4255286f       4  2018-11-05T10:00:20-0400 -34.385799  0.0768   \n",
       "...                ...     ...                       ...        ...     ...   \n",
       "13165555  d5e47b94477e  395815  2017-12-02T15:44:35-0500 -10.064100  0.1552   \n",
       "13165556  d5e47b94477e  395816  2017-12-02T15:44:40-0500 -10.006700  0.1139   \n",
       "13165557  d5e47b94477e  395817  2017-12-02T15:44:45-0500  -3.328600  0.1245   \n",
       "13165558  d5e47b94477e  395818  2017-12-02T15:44:50-0500  -5.903100  0.1363   \n",
       "13165559  d5e47b94477e  395819  2017-12-02T15:44:55-0500 -11.691100  0.0995   \n",
       "\n",
       "          events  \n",
       "0              1  \n",
       "1              1  \n",
       "2              1  \n",
       "3              1  \n",
       "4              1  \n",
       "...          ...  \n",
       "13165555       1  \n",
       "13165556       1  \n",
       "13165557       1  \n",
       "13165558       1  \n",
       "13165559       1  \n",
       "\n",
       "[13165560 rows x 6 columns]"
      ]
     },
     "execution_count": 9,
     "metadata": {},
     "output_type": "execute_result"
    }
   ],
   "source": [
    "Zzzs_train\n"
   ]
  },
  {
   "cell_type": "code",
   "execution_count": 10,
   "metadata": {},
   "outputs": [],
   "source": [
    "Zzzs_train.to_parquet('../data/processed/smaller_data.parquet')"
   ]
  },
  {
   "cell_type": "code",
   "execution_count": null,
   "metadata": {},
   "outputs": [],
   "source": []
  }
 ],
 "metadata": {
  "kernelspec": {
   "display_name": ".venv",
   "language": "python",
   "name": "python3"
  },
  "language_info": {
   "codemirror_mode": {
    "name": "ipython",
    "version": 3
   },
   "file_extension": ".py",
   "mimetype": "text/x-python",
   "name": "python",
   "nbconvert_exporter": "python",
   "pygments_lexer": "ipython3",
   "version": "3.10.16"
  }
 },
 "nbformat": 4,
 "nbformat_minor": 2
}
